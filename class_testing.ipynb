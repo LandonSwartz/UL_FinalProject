{
 "cells": [
  {
   "cell_type": "code",
   "execution_count": 1,
   "metadata": {},
   "outputs": [
    {
     "name": "stdout",
     "output_type": "stream",
     "text": [
      "Jupyter environment detected. Enabling Open3D WebVisualizer.\n",
      "[Open3D INFO] WebRTC GUI backend enabled.\n",
      "[Open3D INFO] WebRTCWindowSystem: HTTP handshake server disabled.\n"
     ]
    }
   ],
   "source": [
    "import open3d as o3d\n",
    "import numpy as np\n",
    "from sklearn.mixture import GaussianMixture\n",
    "from scipy.cluster.hierarchy import linkage, fcluster\n",
    "from scipy.spatial.distance import pdist, squareform"
   ]
  },
  {
   "cell_type": "code",
   "execution_count": 2,
   "metadata": {},
   "outputs": [
    {
     "name": "stdout",
     "output_type": "stream",
     "text": [
      "Creating Class\n",
      "The metrics for segment 0 is: \n",
      "\n",
      "IOU: 0.0\n",
      "Precision: 0.0\n",
      "Recall: 0.0\n",
      "F1 Score: 0.0\n",
      "The metrics for segment 1 is: \n",
      "\n",
      "IOU: 0.47058823529411764\n",
      "Precision: 0.6486486486486487\n",
      "Recall: 0.631578947368421\n",
      "F1 Score: 0.64\n",
      "The metrics for segment 2 is: \n",
      "\n",
      "IOU: 0.0\n",
      "Precision: 0.0\n",
      "Recall: 0.0\n",
      "F1 Score: 0.0\n",
      "The most likely segment had a F1 score of 64.00%\n"
     ]
    },
    {
     "name": "stderr",
     "output_type": "stream",
     "text": [
      "/usr/mvl2/lgsm2n/ULProj/segment_pcd.py:127: ClusterWarning: scipy.cluster: The symmetric non-negative hollow observation matrix looks suspiciously like an uncondensed distance matrix\n",
      "  linkage_matrix = linkage(distance_matrix, method='ward')\n"
     ]
    }
   ],
   "source": [
    "from segment_pcd import SegmentLeavesPCD\n",
    "from evaluation import PointCloudMetricsCalculator\n",
    "\n",
    "seg_class = SegmentLeavesPCD()\n",
    "ground_truth_pc = o3d.io.read_point_cloud(\"/usr/mvl2/lgsm2n/ULProj/pcd_dataset/S6/S6_trimmed_leaf1.ply\")\n",
    "\n",
    "segments = seg_class.SegmentLeaves('/usr/mvl2/lgsm2n/ULProj/pcd_dataset/S6/S6_trimmed.ply')\n",
    "\n",
    "highest_f1 = 0.0\n",
    "predicted_pcd = None\n",
    "\n",
    "for i, segment in enumerate(segments):\n",
    "    print(f'The metrics for segment {i} is: \\n')\n",
    "    # Create an instance of the PointCloudMetricsCalculator\n",
    "    eval =  PointCloudMetricsCalculator(segment, ground_truth_pc)\n",
    "\n",
    "    # Calculate all metrics\n",
    "    metrics = eval.CalculateMetrics()\n",
    "\n",
    "    # Print the metrics\n",
    "    for metric_name, metric_value in metrics.items():\n",
    "        print(f'{metric_name}: {metric_value}')\n",
    "\n",
    "    current_f1 = metrics['F1 Score']\n",
    "\n",
    "    if current_f1 > highest_f1:\n",
    "        highest_f1 = current_f1\n",
    "        predicted_pcd = segment\n",
    "\n",
    "print(f'The most likely segment had a F1 score of {highest_f1*100:.2f}%')"
   ]
  },
  {
   "cell_type": "code",
   "execution_count": 3,
   "metadata": {},
   "outputs": [
    {
     "name": "stdout",
     "output_type": "stream",
     "text": [
      "Starting experiment\n",
      "The gt file paths are ['/usr/mvl2/lgsm2n/ULProj/pcd_dataset/S1/gt_pcd/S1_trim_leaf1.ply', '/usr/mvl2/lgsm2n/ULProj/pcd_dataset/S1/gt_pcd/S1_trim_leaf2.ply', '/usr/mvl2/lgsm2n/ULProj/pcd_dataset/S1/gt_pcd/S1_trim_stem.ply']\n",
      "The input pcd path is /usr/mvl2/lgsm2n/ULProj/pcd_dataset/S1/input_pcd/S1_trim.ply\n",
      "Running experiment on gt model /usr/mvl2/lgsm2n/ULProj/pcd_dataset/S1/gt_pcd/S1_trim_leaf1.ply\n",
      "Creating Class\n"
     ]
    },
    {
     "name": "stderr",
     "output_type": "stream",
     "text": [
      "/usr/mvl2/lgsm2n/ULProj/segment_pcd.py:127: ClusterWarning: scipy.cluster: The symmetric non-negative hollow observation matrix looks suspiciously like an uncondensed distance matrix\n",
      "  linkage_matrix = linkage(distance_matrix, method='ward')\n"
     ]
    },
    {
     "name": "stdout",
     "output_type": "stream",
     "text": [
      "The most likely segment had a F1 score of 66.54%\n",
      "The metrics are:\n",
      "IOU: 0.49857142857142855\n",
      "Precision: 1.0\n",
      "Recall: 0.49857142857142855\n",
      "F1 Score: 0.6653956148713059\n",
      "Running experiment on gt model /usr/mvl2/lgsm2n/ULProj/pcd_dataset/S1/gt_pcd/S1_trim_leaf2.ply\n",
      "Creating Class\n"
     ]
    },
    {
     "name": "stderr",
     "output_type": "stream",
     "text": [
      "/usr/mvl2/lgsm2n/ULProj/segment_pcd.py:127: ClusterWarning: scipy.cluster: The symmetric non-negative hollow observation matrix looks suspiciously like an uncondensed distance matrix\n",
      "  linkage_matrix = linkage(distance_matrix, method='ward')\n"
     ]
    },
    {
     "name": "stdout",
     "output_type": "stream",
     "text": [
      "The most likely segment had a F1 score of 49.78%\n",
      "The metrics are:\n",
      "IOU: 0.3313953488372093\n",
      "Precision: 0.3313953488372093\n",
      "Recall: 1.0\n",
      "F1 Score: 0.4978165938864629\n",
      "Running experiment on gt model /usr/mvl2/lgsm2n/ULProj/pcd_dataset/S1/gt_pcd/S1_trim_stem.ply\n",
      "Creating Class\n",
      "The most likely segment had a F1 score of 9.60%\n",
      "The metrics are:\n",
      "IOU: 0.050397877984084884\n",
      "Precision: 0.07450980392156863\n",
      "Recall: 0.1347517730496454\n",
      "F1 Score: 0.09595959595959597\n",
      "The experiment is finished and the file output is at /usr/mvl2/lgsm2n/ULProj/pcd_dataset/S1/output.csv\n"
     ]
    },
    {
     "name": "stderr",
     "output_type": "stream",
     "text": [
      "/usr/mvl2/lgsm2n/ULProj/segment_pcd.py:127: ClusterWarning: scipy.cluster: The symmetric non-negative hollow observation matrix looks suspiciously like an uncondensed distance matrix\n",
      "  linkage_matrix = linkage(distance_matrix, method='ward')\n"
     ]
    }
   ],
   "source": [
    "from experiment import ULExperiment\n",
    "\n",
    "exp = ULExperiment(gt_dir_filepath='/usr/mvl2/lgsm2n/ULProj/pcd_dataset/S1/gt_pcd/', input_filepath='/usr/mvl2/lgsm2n/ULProj/pcd_dataset/S1/input_pcd/',\n",
    "                   csv_path = '/usr/mvl2/lgsm2n/ULProj/pcd_dataset/S1/output.csv')\n",
    "exp.RunFullExperiment()"
   ]
  },
  {
   "cell_type": "code",
   "execution_count": null,
   "metadata": {},
   "outputs": [],
   "source": []
  }
 ],
 "metadata": {
  "kernelspec": {
   "display_name": "open3d",
   "language": "python",
   "name": "python3"
  },
  "language_info": {
   "codemirror_mode": {
    "name": "ipython",
    "version": 3
   },
   "file_extension": ".py",
   "mimetype": "text/x-python",
   "name": "python",
   "nbconvert_exporter": "python",
   "pygments_lexer": "ipython3",
   "version": "3.10.12"
  }
 },
 "nbformat": 4,
 "nbformat_minor": 2
}
